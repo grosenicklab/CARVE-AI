{
 "cells": [
  {
   "cell_type": "code",
   "execution_count": 2,
   "id": "b21a813f",
   "metadata": {},
   "outputs": [],
   "source": [
    "# Imports and Settings\n",
    "import numpy as np\n",
    "import matplotlib\n",
    "matplotlib.use(\"Agg\")\n",
    "import matplotlib.pyplot as plt\n",
    "import matplotlib.animation as manimation\n",
    "\n",
    "# Set movie writer parameters\n",
    "FFMpegWriter = manimation.writers['ffmpeg']\n",
    "metadata = dict(title='Movie Test', artist='Matplotlib', comment='Movie support!')\n",
    "writer = FFMpegWriter(fps=15, metadata=metadata)\n",
    "\n",
    "# Generate placeholder images (128 64x64 images)\n",
    "img_arr = np.random.randn(128,64,64)\n",
    "\n",
    "# Initialize plot and remove axis numbering\n",
    "fig = plt.figure(figsize=(6,6))\n",
    "l = plt.imshow(img_arr[0,:,:])\n",
    "\n",
    "# Loop over image array first dimension, plot each image, and grab as a movie frame\n",
    "with writer.saving(fig, \"vid_test.mp4\", 300):\n",
    "    for i in range(img_arr.shape[0]):\n",
    "        fig.clear()\n",
    "        ax = fig.add_subplot(111) \n",
    "        ax.imshow(img_arr[i,:,:], cmap='inferno')\n",
    "        ax.axes.xaxis.set_visible(False)\n",
    "        ax.axes.yaxis.set_visible(False)\n",
    "        writer.grab_frame()\n"
   ]
  },
  {
   "cell_type": "code",
   "execution_count": null,
   "id": "28a0abb4",
   "metadata": {},
   "outputs": [],
   "source": []
  }
 ],
 "metadata": {
  "kernelspec": {
   "display_name": "Python 3 (ipykernel)",
   "language": "python",
   "name": "python3"
  },
  "language_info": {
   "codemirror_mode": {
    "name": "ipython",
    "version": 3
   },
   "file_extension": ".py",
   "mimetype": "text/x-python",
   "name": "python",
   "nbconvert_exporter": "python",
   "pygments_lexer": "ipython3",
   "version": "3.9.7"
  }
 },
 "nbformat": 4,
 "nbformat_minor": 5
}
