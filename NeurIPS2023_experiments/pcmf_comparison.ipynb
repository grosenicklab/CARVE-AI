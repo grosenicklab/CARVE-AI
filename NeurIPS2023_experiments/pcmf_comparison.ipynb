{
 "cells": [
  {
   "cell_type": "code",
   "execution_count": null,
   "id": "6c62cde1",
   "metadata": {},
   "outputs": [],
   "source": [
    "# IMPORTS\n",
    "\n",
    "# Paths\n",
    "import time\n",
    "import os\n",
    "import warnings\n",
    "import sys\n",
    "if not sys.warnoptions:\n",
    "    warnings.simplefilter(\"ignore\")\n",
    "    os.environ[\"PYTHONWARNINGS\"] = ('ignore::UserWarning,ignore::ConvergenceWarning,ignore::RuntimeWarning')\n",
    "from sklearn.preprocessing import Normalizer, StandardScaler, MinMaxScaler\n",
    "import math\n",
    "\n",
    "os.chdir('..')\n",
    "from pcmf import pcmf_full, pcmf_approx_uV, path_plot, plot_ordercolor, plot_cluster_assignments, prox_numba_arr, chol_D, SVD, SVD2, get_weights\n",
    "from p3ca import cluster_metrics, calculate_scores_nonpath, admm_CCA_new\n",
    "\n",
    "import numpy as np\n",
    "%load_ext autoreload\n",
    "import nilearn\n",
    "from nilearn import image\n",
    "import pandas as pd\n",
    "from sklearn.preprocessing import StandardScaler\n",
    "from itertools import combinations\n",
    "from sklearn.decomposition import NMF as sk_NMF\n",
    "\n",
    "import time\n",
    "from datetime import datetime\n",
    "\n",
    "%matplotlib inline\n",
    "from matplotlib import pyplot as plt\n",
    "from matplotlib import animation\n",
    "from IPython.display import HTML\n",
    "\n",
    "import rpy2"
   ]
  },
  {
   "cell_type": "code",
   "execution_count": null,
   "id": "db4120a2",
   "metadata": {},
   "outputs": [],
   "source": [
    "import pandas as pd\n",
    "import numpy as np\n",
    "import time\n",
    "from pcmf_dataloaders import load_NCI, load_SRBCT, load_mouseorgans, load_gbmBreastLung\n",
    "from pcmf_experiments_2023 import fit_pca_carp, fit_cluster_comparisons"
   ]
  },
  {
   "cell_type": "code",
   "execution_count": null,
   "id": "6f77f692",
   "metadata": {},
   "outputs": [],
   "source": [
    "os.environ['R_HOME'] = \"/Library/Frameworks/R.framework/Resources/\" # \"/usr/local/bin/R\" #\n",
    "import rpy2.robjects as robjects\n",
    "import rpy2.rinterface as rinterface\n",
    "from rpy2.robjects.packages import importr\n",
    "base = importr('base')\n",
    "conflicted = importr('conflicted')\n",
    "\n",
    "from rpy2 import robjects\n",
    "from rpy2.robjects.packages import importr\n",
    "import rpy2.robjects as robjects\n",
    "import rpy2.rinterface as rinterface\n",
    "import rpy2.robjects.numpy2ri\n",
    "base = importr('base')\n",
    "conflicted = importr('conflicted')\n",
    "VarSelLCM = importr('VarSelLCM')\n",
    "HDclassif = importr('HDclassif')\n",
    "nethet = importr('nethet')\n",
    "clustRviz = importr('clustRviz')\n",
    "HDLSSkST = importr('HDLSSkST')"
   ]
  },
  {
   "cell_type": "code",
   "execution_count": null,
   "id": "17994b4e",
   "metadata": {},
   "outputs": [],
   "source": [
    "# Examples running my fit_cluster_comparisons methods"
   ]
  },
  {
   "cell_type": "code",
   "execution_count": null,
   "id": "fea832a2",
   "metadata": {},
   "outputs": [],
   "source": [
    "from pcmf_dataloaders import load_COVID, load_penguins, load_NCI_MV, load_SRBCT_MV, load_mouseorgans_MV, load_gbmBreastLung_MV\n",
    "\n",
    "XYall, true_clusters, Xall, Yall = load_penguins()\n",
    "fit_cluster_comparisons(Xall, true_clusters, Y=Yall, XY=XYall, dtype='PCA', run_nondeep=True, run_deep=False, dataset_in=None, data_dir='/Users/amandabuch/Documents/clusterCCA/PCMF')\n",
    "\n",
    "# # del Xall, Yall, XYall, true_clusters, labels, ari, nmi, acc\n"
   ]
  },
  {
   "cell_type": "code",
   "execution_count": null,
   "id": "9b6ecc71",
   "metadata": {},
   "outputs": [],
   "source": [
    "accuracies_pds = []\n",
    "labels_alls = []\n",
    "dataset = 'NCI'\n",
    "Xall, true_clusters = load_NCI()\n",
    "accuracies, labels_all = fit_cluster_comparisons(Xall, true_clusters, Y=Yall, XY=XYall, dtype='PCA', run_nondeep=True, run_deep=False, dataset_in=None, data_dir='/Users/amandabuch/Documents/clusterCCA/PCMF')\n",
    "accuracies_pd = pd.DataFrame(accuracies, columns = ['Algorithm', 'ACC', 'ARI', 'NMI', 'TOC'])\n",
    "print(accuracies_pd)\n",
    "datasets.append(dataset)\n",
    "accuracies_pds.append(accuracies_pd)\n",
    "labels_alls.append(labels_all)\n",
    "print(accuracies_pds)\n",
    "del Xall, true_clusters, labels, ari, nmi, acc, accuracies_pd, dataset, labels_all\n"
   ]
  },
  {
   "cell_type": "code",
   "execution_count": null,
   "id": "8c22a85f",
   "metadata": {},
   "outputs": [],
   "source": [
    "# example running PCA + CARP on all datasets in Table 2"
   ]
  },
  {
   "cell_type": "code",
   "execution_count": null,
   "id": "e8230177",
   "metadata": {},
   "outputs": [],
   "source": [
    "import pandas as pd\n",
    "import numpy as np\n",
    "import time\n",
    "from pcmf_dataloaders import load_NCI, load_SRBCT, load_mouseorgans, load_gbmBreastLung\n",
    "from pcmf_experiments_2023 import fit_pca_carp\n",
    "\n",
    "Xall, true_clusters = load_NCI()\n",
    "tic = time.time()\n",
    "labels, ari, nmi, acc = fit_pca_carp(Xall, pd.factorize(true_clusters)[0], len(np.unique(true_clusters)), n_components=10)\n",
    "toc = time.time() - tic\n",
    "print('NCI:', 'PCA --> CARP','Accuracy: ', str(acc), 'Time elapsed', toc)\n",
    "del Xall, true_clusters, labels, ari, nmi, acc\n",
    "\n",
    "Xall, true_clusters = load_SRBCT()\n",
    "tic = time.time()\n",
    "labels, ari, nmi, acc = fit_pca_carp(Xall, pd.factorize(true_clusters)[0], len(np.unique(true_clusters)), n_components=10)\n",
    "toc = time.time() - tic\n",
    "print('SRBCT:', 'PCA --> CARP','Accuracy: ', str(acc), 'Time elapsed', toc)\n",
    "del Xall, true_clusters, labels, ari, nmi, acc\n",
    "\n",
    "Xall, true_clusters = load_mouseorgans()\n",
    "tic = time.time()\n",
    "labels, ari, nmi, acc = fit_pca_carp(Xall, pd.factorize(true_clusters)[0], len(np.unique(true_clusters)), n_components=10)\n",
    "toc = time.time() - tic\n",
    "print('Mouse:', 'PCA --> CARP','Accuracy: ', str(acc), 'Time elapsed', toc)\n",
    "del Xall, true_clusters, labels, ari, nmi, acc\n",
    "\n",
    "Xall, true_clusters = load_gbmBreastLung()\n",
    "tic = time.time()\n",
    "labels, ari, nmi, acc = fit_pca_carp(Xall, pd.factorize(true_clusters)[0], len(np.unique(true_clusters)), n_components=10)\n",
    "toc = time.time() - tic\n",
    "print('Tumors:', 'PCA --> CARP','Accuracy: ', str(acc), 'Time elapsed', toc)\n",
    "del Xall, true_clusters, labels, ari, nmi, acc\n",
    "\n"
   ]
  },
  {
   "cell_type": "code",
   "execution_count": null,
   "id": "c2e3680c",
   "metadata": {},
   "outputs": [],
   "source": [
    "from pcmf_dataloaders import load_COVID, load_penguins, load_NCI_MV, load_SRBCT_MV, load_mouseorgans_MV, load_gbmBreastLung_MV\n",
    "from pcmf_experiments_2023 import fit_cca_carp\n",
    "\n",
    "XYall, true_clusters, Xall, Yall = load_COVID()\n",
    "tic = time.time()\n",
    "labels, ari, nmi, acc = fit_cca_carp(Xall, Yall, pd.factorize(true_clusters)[0], len(np.unique(true_clusters)), n_components=1)\n",
    "toc = time.time() - tic\n",
    "print('COVID:', 'CCA --> CARP','Accuracy: ', str(acc), 'Time elapsed', toc)\n",
    "del Xall, Yall, XYall, true_clusters, labels, ari, nmi, acc\n",
    "\n",
    "XYall, true_clusters, Xall, Yall = load_penguins()\n",
    "tic = time.time()\n",
    "labels, ari, nmi, acc = fit_cca_carp(Xall, Yall, pd.factorize(true_clusters)[0], len(np.unique(true_clusters)), n_components=1)\n",
    "toc = time.time() - tic\n",
    "print('Penguins:', 'CCA --> CARP','Accuracy: ', str(acc), 'Time elapsed', toc)\n",
    "del Xall, Yall, XYall, true_clusters, labels, ari, nmi, acc\n",
    "\n",
    "Xall, Yall, true_clusters = load_NCI_MV()\n",
    "tic = time.time()\n",
    "labels, ari, nmi, acc = fit_cca_carp(Xall, Yall, pd.factorize(true_clusters)[0], len(np.unique(true_clusters)), n_components=1)\n",
    "toc = time.time() - tic\n",
    "print('NCI_MV:', 'CCA --> CARP','Accuracy: ', str(acc), 'Time elapsed', toc)\n",
    "del Xall, Yall, true_clusters, labels, ari, nmi, acc\n",
    "\n",
    "Xall, Yall, true_clusters = load_SRBCT_MV()\n",
    "tic = time.time()\n",
    "labels, ari, nmi, acc = fit_cca_carp(Xall, Yall, pd.factorize(true_clusters)[0], len(np.unique(true_clusters)), n_components=1)\n",
    "toc = time.time() - tic\n",
    "print('SRBCT_MV:', 'CCA --> CARP','Accuracy: ', str(acc), 'Time elapsed', toc)\n",
    "del Xall, Yall, true_clusters, labels, ari, nmi, acc\n",
    "\n",
    "Xall, Yall, true_clusters = load_mouseorgans_MV()\n",
    "tic = time.time()\n",
    "labels, ari, nmi, acc = fit_cca_carp(Xall, Yall, pd.factorize(true_clusters)[0], len(np.unique(true_clusters)), n_components=1)\n",
    "toc = time.time() - tic\n",
    "print('Mouse_MV:', 'CCA --> CARP','Accuracy: ', str(acc), 'Time elapsed', toc)\n",
    "del Xall, Yall, true_clusters, labels, ari, nmi, acc\n",
    "\n",
    "Xall, Yall, true_clusters = load_gbmBreastLung_MV()\n",
    "tic = time.time()\n",
    "labels, ari, nmi, acc = fit_cca_carp(Xall, Yall, pd.factorize(true_clusters)[0], len(np.unique(true_clusters)), n_components=1)\n",
    "toc = time.time() - tic\n",
    "print('Tumors_MV:', 'CCA --> CARP','Accuracy: ', str(acc), 'Time elapsed', toc)\n",
    "del Xall, Yall, true_clusters, labels, ari, nmi, acc\n",
    "\n"
   ]
  },
  {
   "cell_type": "code",
   "execution_count": null,
   "id": "e7dfc86a",
   "metadata": {},
   "outputs": [],
   "source": [
    "# Deep methods"
   ]
  },
  {
   "cell_type": "code",
   "execution_count": null,
   "id": "01c6bfae",
   "metadata": {},
   "outputs": [],
   "source": [
    "tic = time.time()\n",
    "accuracies, toc, acc_str = fit_IDEC_deep_cluster(dataset_in='penguins', data_dir='/Users/amandabuch/Documents/clusterCCA/PCMF', batch_size_options=[15], pretrain_epochs_options=[10], train_epochs_options=[10])\n",
    "toc = time.time() - tic\n",
    "accuracies_pd = pd.DataFrame(accuracies, columns = ['idx','Accuracy', 'BatchSize','pretrain_epochs', 'train_epochs'])\n",
    "acc = np.round(accuracies_pd['Accuracy'].max()*100,2)\n",
    "print('Penguins:', 'IDEC','Accuracy: ', str(acc), 'Time elapsed', toc)\n"
   ]
  },
  {
   "cell_type": "code",
   "execution_count": null,
   "id": "254d37e7",
   "metadata": {},
   "outputs": [],
   "source": [
    "XYall, true_clusters, Xall, Yall = load_penguins()\n",
    "tic = time.time()\n",
    "accuracies, toc, acc_str = fit_dec(XYall, true_clusters, batch_size_options=[15], finetune_iters_options=[10], layerwise_pretrain_iters_options=[10], cluster_iter_max_options=[10])\n",
    "toc = time.time() - tic\n",
    "accuracies_pd = pd.DataFrame(accuracies, columns = ['idx','Accuracy', 'BatchSize','finetune_iters', 'layerwise_pretrain_iters', 'cluster_iter_max'])\n",
    "acc = np.round(accuracies_pd['Accuracy'].max()*100,2)\n",
    "print('Penguins:', 'DEC','Accuracy: ', str(acc), 'Time elapsed', toc)\n",
    "\n"
   ]
  }
 ],
 "metadata": {
  "kernelspec": {
   "display_name": "Python 3 (ipykernel)",
   "language": "python",
   "name": "python3"
  },
  "language_info": {
   "codemirror_mode": {
    "name": "ipython",
    "version": 3
   },
   "file_extension": ".py",
   "mimetype": "text/x-python",
   "name": "python",
   "nbconvert_exporter": "python",
   "pygments_lexer": "ipython3",
   "version": "3.10.11"
  }
 },
 "nbformat": 4,
 "nbformat_minor": 5
}
